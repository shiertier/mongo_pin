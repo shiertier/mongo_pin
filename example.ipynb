{
 "cells": [
  {
   "cell_type": "code",
   "execution_count": 1,
   "metadata": {},
   "outputs": [
    {
     "name": "stderr",
     "output_type": "stream",
     "text": [
      "c:\\Users\\jie\\AppData\\Local\\Programs\\Python\\Python310\\lib\\site-packages\\tqdm\\auto.py:21: TqdmWarning: IProgress not found. Please update jupyter and ipywidgets. See https://ipywidgets.readthedocs.io/en/stable/user_install.html\n",
      "  from .autonotebook import tqdm as notebook_tqdm\n"
     ]
    }
   ],
   "source": [
    "from pinmongo import *\n",
    "from random import randint\n",
    "\n",
    "\n",
    "s = Pin_scrapy()\n",
    "username='shiertier'\n",
    "password='20000418Nuo.'\n",
    "#pin_cloud = Pin_cloud(username=username, password=password)\n",
    "pin_local = Pin_local(username=username, password=password, host='localhost', port=27000)"
   ]
  },
  {
   "cell_type": "code",
   "execution_count": 3,
   "metadata": {},
   "outputs": [],
   "source": [
    "# 获取用户所有画板id\n",
    "board_ids = s.username_boards('junjietext')"
   ]
  },
  {
   "cell_type": "code",
   "execution_count": null,
   "metadata": {},
   "outputs": [],
   "source": [
    "# 获取该用户所有图片\n",
    "for board_id in board_ids:\n",
    "    pics = s.board_pics(board_id)\n",
    "    # insert_many函数用于插入到本地local数据库的pics集合中,跳过重复错误\n",
    "    insert_many(pin_local.pics, pics)"
   ]
  },
  {
   "cell_type": "code",
   "execution_count": null,
   "metadata": {},
   "outputs": [],
   "source": [
    "# 获取该用户所有画板相关图片\n",
    "for board_id in board_ids:\n",
    "    # relate=True表示获取该画板相关图片\n",
    "    pics = s.board_pics(board_id,relate=True)\n",
    "    for pic in pics:\n",
    "        try:\n",
    "            pin_local.pics.update_one({\"_id\": pic[\"_id\"]}, {\"$set\": pic}, upsert=True)\n",
    "        except:\n",
    "            pass"
   ]
  },
  {
   "cell_type": "code",
   "execution_count": 2,
   "metadata": {},
   "outputs": [],
   "source": [
    "def clean():\n",
    "    pin_local.pics.update_many({'link':None},{'$unset':{'link':''}})\n",
    "    pin_local.pics.update_many({'creator':None},{'$unset':{'creator':''}})\n",
    "    pin_local.pics.update_many({'creator_id':None},{'$unset':{'creator_id':''}})\n",
    "    pin_local.pics.update_many({'visual_annotation':[]},{'$unset':{'visual_annotation':''}})"
   ]
  },
  {
   "cell_type": "code",
   "execution_count": 18,
   "metadata": {},
   "outputs": [
    {
     "data": {
      "text/plain": [
       "UpdateResult({'n': 21987, 'nModified': 0, 'ok': 1.0, 'updatedExisting': True}, acknowledged=True)"
      ]
     },
     "execution_count": 18,
     "metadata": {},
     "output_type": "execute_result"
    }
   ],
   "source": [
    "pin_local.pics.update_many({},{'$set':{'tree':1}})"
   ]
  },
  {
   "cell_type": "code",
   "execution_count": 3,
   "metadata": {},
   "outputs": [],
   "source": [
    "def one_t(A):\n",
    "    match_stage = {'$match': {'status.add': {'$exists': False}}}\n",
    "    skip_stage = {'$skip': randint(1, 64)}\n",
    "    limit_stage = {'$limit': 1}\n",
    "    pic = pin_local.pics.aggregate([match_stage, skip_stage, limit_stage]).next()\n",
    "    va,repinCount = s.get_pic_add_data(pic['_id'])\n",
    "    if not va and not repinCount:\n",
    "        pin_local.pics.update_one({'_id': pic['_id']}, {'$set': {'status.add': False}})\n",
    "        return\n",
    "    new_data = {\n",
    "        'visual_annotation': va,\n",
    "        'repin': repinCount,\n",
    "        'status.relate': True,\n",
    "    }\n",
    "    pin_local.pics.update_one({'_id':pic['_id']},{\"$set\":new_data})"
   ]
  },
  {
   "cell_type": "code",
   "execution_count": 27,
   "metadata": {},
   "outputs": [
    {
     "data": {
      "text/plain": [
       "UpdateResult({'n': 404, 'nModified': 404, 'ok': 1.0, 'updatedExisting': True}, acknowledged=True)"
      ]
     },
     "execution_count": 27,
     "metadata": {},
     "output_type": "execute_result"
    }
   ],
   "source": [
    "pin_local.pics.update_many({'status.relate': False},{'$unset':{'status.relate':''}})"
   ]
  },
  {
   "cell_type": "code",
   "execution_count": null,
   "metadata": {},
   "outputs": [],
   "source": [
    "from concurrent.futures import ThreadPoolExecutor\n",
    "from functools import partial\n",
    "def main():\n",
    "    with ThreadPoolExecutor(max_workers=64) as executor:\n",
    "        for _ in range(1280):\n",
    "             executor.submit(partial(one_t, 2))\n",
    "\n",
    "main()\n",
    "\n",
    "#while pin_local.pics.find_one({'status.relate': {'$exists': False}}):\n",
    "#    main()"
   ]
  },
  {
   "cell_type": "code",
   "execution_count": 4,
   "metadata": {},
   "outputs": [],
   "source": [
    "def list_add_tree(_list, tree):\n",
    "    for _dict in _list:\n",
    "        _dict['tree'] = tree\n",
    "    return _list"
   ]
  },
  {
   "cell_type": "code",
   "execution_count": 5,
   "metadata": {},
   "outputs": [],
   "source": [
    "def www(tree_search):\n",
    "    match_stage = {'$match': {'status.relate': {'$exists': False}, 'tree':tree_search}}\n",
    "    skip_stage = {'$skip': randint(1, 10000)}\n",
    "    limit_stage = {'$limit': 1}\n",
    "    pic = pin_local.pics.aggregate([match_stage, skip_stage, limit_stage]).next()\n",
    "    pics = s.pics_relate_pics(pic['_id'])\n",
    "    pics = list_add_tree(pics, tree_search+1)\n",
    "    try:\n",
    "        insert_many(pin_local.pics, pics)\n",
    "        pin_local.pics.update_one({'_id': pic['_id']}, {'$set': {'status.relate': True}})\n",
    "    except:\n",
    "        pin_local.pics.update_one({'_id': pic['_id']}, {'$set': {'status.relate': False}})\n",
    "        return"
   ]
  },
  {
   "cell_type": "code",
   "execution_count": 19,
   "metadata": {},
   "outputs": [
    {
     "data": {
      "text/plain": [
       "21987"
      ]
     },
     "execution_count": 19,
     "metadata": {},
     "output_type": "execute_result"
    }
   ],
   "source": [
    "pin_local.pics.count_documents({'tree':1,'status.relate':{'$exists':True}})"
   ]
  },
  {
   "cell_type": "code",
   "execution_count": 11,
   "metadata": {},
   "outputs": [
    {
     "data": {
      "text/plain": [
       "UpdateResult({'n': 21987, 'nModified': 21987, 'ok': 1.0, 'updatedExisting': True}, acknowledged=True)"
      ]
     },
     "execution_count": 11,
     "metadata": {},
     "output_type": "execute_result"
    }
   ],
   "source": [
    "pin_local.pics.update_many({'tree':1},{'$set':{'status.relate':True}})"
   ]
  },
  {
   "cell_type": "code",
   "execution_count": 18,
   "metadata": {},
   "outputs": [
    {
     "data": {
      "text/plain": [
       "'tree_1'"
      ]
     },
     "execution_count": 18,
     "metadata": {},
     "output_type": "execute_result"
    }
   ],
   "source": [
    "pin_local.pics.create_index('status.relate')\n",
    "pin_local.pics.create_index('tree')"
   ]
  },
  {
   "cell_type": "code",
   "execution_count": null,
   "metadata": {},
   "outputs": [],
   "source": [
    "www(2)"
   ]
  },
  {
   "cell_type": "code",
   "execution_count": null,
   "metadata": {},
   "outputs": [],
   "source": [
    "from concurrent.futures import ThreadPoolExecutor\n",
    "from functools import partial\n",
    "def main():\n",
    "    with ThreadPoolExecutor(max_workers=100) as executor:\n",
    "        for _ in range(1280000):\n",
    "             executor.submit(partial(www, 2))\n",
    "main()"
   ]
  },
  {
   "cell_type": "code",
   "execution_count": 3,
   "metadata": {},
   "outputs": [
    {
     "name": "stdout",
     "output_type": "stream",
     "text": [
      "Requirement already satisfied: setuptools in c:\\users\\jie\\appdata\\local\\programs\\python\\python310\\lib\\site-packages (60.2.0)\n",
      "Collecting setuptools\n",
      "  Using cached setuptools-69.5.1-py3-none-any.whl.metadata (6.2 kB)\n",
      "Downloading setuptools-69.5.1-py3-none-any.whl (894 kB)\n",
      "   ---------------------------------------- 0.0/894.6 kB ? eta -:--:--\n",
      "   ---------------------------------------- 10.2/894.6 kB ? eta -:--:--\n",
      "   -- ------------------------------------- 61.4/894.6 kB 1.1 MB/s eta 0:00:01\n",
      "   ------ --------------------------------- 143.4/894.6 kB 1.4 MB/s eta 0:00:01\n",
      "   -------------- ------------------------- 317.4/894.6 kB 2.2 MB/s eta 0:00:01\n",
      "   ------------------------------ --------- 686.1/894.6 kB 3.6 MB/s eta 0:00:01\n",
      "   ---------------------------------------- 894.6/894.6 kB 4.0 MB/s eta 0:00:00\n",
      "Installing collected packages: setuptools\n",
      "  Attempting uninstall: setuptools\n",
      "    Found existing installation: setuptools 60.2.0\n",
      "    Uninstalling setuptools-60.2.0:\n",
      "      Successfully uninstalled setuptools-60.2.0\n",
      "Successfully installed setuptools-69.5.1\n"
     ]
    },
    {
     "name": "stderr",
     "output_type": "stream",
     "text": [
      "DEPRECATION: torchsde 0.2.5 has a non-standard dependency specifier numpy>=1.19.*; python_version >= \"3.7\". pip 24.1 will enforce this behaviour change. A possible replacement is to upgrade to a newer version of torchsde or contact the author to suggest that they release a version with a conforming dependency specifiers. Discussion can be found at https://github.com/pypa/pip/issues/12063\n",
      "ERROR: pip's dependency resolver does not currently take into account all the packages that are installed. This behaviour is the source of the following dependency conflicts.\n",
      "cx-freeze 6.15.10 requires setuptools<69,>=62.6, but you have setuptools 69.5.1 which is incompatible.\n"
     ]
    }
   ],
   "source": [
    "!pip install --upgrade setuptools"
   ]
  },
  {
   "cell_type": "code",
   "execution_count": 6,
   "metadata": {},
   "outputs": [
    {
     "name": "stdout",
     "output_type": "stream",
     "text": [
      "Found existing installation: pinmongo 0.1.0\n",
      "Uninstalling pinmongo-0.1.0:\n",
      "  Successfully uninstalled pinmongo-0.1.0\n"
     ]
    }
   ],
   "source": [
    "! pip uninstall -y pinmongo"
   ]
  },
  {
   "cell_type": "code",
   "execution_count": 7,
   "metadata": {},
   "outputs": [
    {
     "name": "stdout",
     "output_type": "stream",
     "text": [
      "Processing c:\\users\\jie\\videos\\pin_scrapy\n",
      "  Preparing metadata (setup.py): started\n",
      "  Preparing metadata (setup.py): finished with status 'done'\n",
      "Requirement already satisfied: pymongo in c:\\users\\jie\\appdata\\local\\programs\\python\\python310\\lib\\site-packages (from pinmongo==0.1.0) (4.7.2)\n",
      "Requirement already satisfied: dnspython<3.0.0,>=1.16.0 in c:\\users\\jie\\appdata\\local\\programs\\python\\python310\\lib\\site-packages (from pymongo->pinmongo==0.1.0) (1.16.0)\n",
      "Building wheels for collected packages: pinmongo\n",
      "  Building wheel for pinmongo (setup.py): started\n",
      "  Building wheel for pinmongo (setup.py): finished with status 'done'\n",
      "  Created wheel for pinmongo: filename=pinmongo-0.1.0-py3-none-any.whl size=6745 sha256=7e3f40530bf90c5f179ad95b535b83414d0d89a9622a447cea4865159d3b3419\n",
      "  Stored in directory: C:\\Users\\jie\\AppData\\Local\\Temp\\pip-ephem-wheel-cache-eti0ofti\\wheels\\2d\\ee\\32\\c5207e9d0bb01a6b2b93e298ea6f8f2a478ca4bdd95c35d10c\n",
      "Successfully built pinmongo\n",
      "Installing collected packages: pinmongo\n",
      "Successfully installed pinmongo-0.1.0\n"
     ]
    },
    {
     "name": "stderr",
     "output_type": "stream",
     "text": [
      "DEPRECATION: torchsde 0.2.5 has a non-standard dependency specifier numpy>=1.19.*; python_version >= \"3.7\". pip 24.1 will enforce this behaviour change. A possible replacement is to upgrade to a newer version of torchsde or contact the author to suggest that they release a version with a conforming dependency specifiers. Discussion can be found at https://github.com/pypa/pip/issues/12063\n"
     ]
    }
   ],
   "source": [
    "! pip install ."
   ]
  }
 ],
 "metadata": {
  "kernelspec": {
   "display_name": "Python 3",
   "language": "python",
   "name": "python3"
  },
  "language_info": {
   "codemirror_mode": {
    "name": "ipython",
    "version": 3
   },
   "file_extension": ".py",
   "mimetype": "text/x-python",
   "name": "python",
   "nbconvert_exporter": "python",
   "pygments_lexer": "ipython3",
   "version": "3.10.10"
  }
 },
 "nbformat": 4,
 "nbformat_minor": 2
}
